{
  "nbformat": 4,
  "nbformat_minor": 0,
  "metadata": {
    "colab": {
      "provenance": [],
      "authorship_tag": "ABX9TyO2LNnjs65TglYGLO/73JKf",
      "include_colab_link": true
    },
    "kernelspec": {
      "name": "python3",
      "display_name": "Python 3"
    },
    "language_info": {
      "name": "python"
    }
  },
  "cells": [
    {
      "cell_type": "markdown",
      "metadata": {
        "id": "view-in-github",
        "colab_type": "text"
      },
      "source": [
        "<a href=\"https://colab.research.google.com/github/eom-hope/ABCD-A/blob/20250307/Untitled1.ipynb\" target=\"_parent\"><img src=\"https://colab.research.google.com/assets/colab-badge.svg\" alt=\"Open In Colab\"/></a>"
      ]
    },
    {
      "cell_type": "code",
      "execution_count": 6,
      "metadata": {
        "colab": {
          "base_uri": "https://localhost:8080/"
        },
        "id": "IDru1qBOQKdB",
        "outputId": "b3156b1b-23a5-44ae-f498-dfa84163fbc3"
      },
      "outputs": [
        {
          "output_type": "stream",
          "name": "stdout",
          "text": [
            "(10, 20, 30)\n",
            "a=(10, 20, 30)\n",
            "b=1\n",
            "a=(10, 20, 30), b=1, c=2\n"
          ]
        }
      ],
      "source": [
        "#day1 프로그램\n",
        "a = (10,20,30)\n",
        "b = 1\n",
        "c = 2\n",
        "print(a)\n",
        "print( \"a={}\".format(a) )\n",
        "print( \"b={}\".format(b) )\n",
        "print( \"a={}, b={}, c={}\".format(a,b,c) )"
      ]
    }
  ]
}